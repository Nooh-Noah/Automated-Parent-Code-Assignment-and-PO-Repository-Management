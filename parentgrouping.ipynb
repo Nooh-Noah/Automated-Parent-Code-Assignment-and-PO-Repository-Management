{
 "cells": [
  {
   "cell_type": "code",
   "execution_count": 1,
   "id": "3649efd2-9cdf-41c9-895a-1abceeb86705",
   "metadata": {},
   "outputs": [
    {
     "name": "stdout",
     "output_type": "stream",
     "text": [
      "Requirement already satisfied: pandas in c:\\users\\mohammadshariqkhan\\anaconda3\\lib\\site-packages (2.0.3)\n",
      "Collecting pyxlsb\n",
      "  Obtaining dependency information for pyxlsb from https://files.pythonhosted.org/packages/7e/92/345823838ae367c59b63e03aef9c331f485370f9df6d049256a61a28f06d/pyxlsb-1.0.10-py2.py3-none-any.whl.metadata\n",
      "  Downloading pyxlsb-1.0.10-py2.py3-none-any.whl.metadata (2.5 kB)\n",
      "Requirement already satisfied: openpyxl in c:\\users\\mohammadshariqkhan\\anaconda3\\lib\\site-packages (3.0.10)\n",
      "Requirement already satisfied: python-dateutil>=2.8.2 in c:\\users\\mohammadshariqkhan\\anaconda3\\lib\\site-packages (from pandas) (2.8.2)\n",
      "Requirement already satisfied: pytz>=2020.1 in c:\\users\\mohammadshariqkhan\\anaconda3\\lib\\site-packages (from pandas) (2023.3.post1)\n",
      "Requirement already satisfied: tzdata>=2022.1 in c:\\users\\mohammadshariqkhan\\anaconda3\\lib\\site-packages (from pandas) (2023.3)\n",
      "Requirement already satisfied: numpy>=1.21.0 in c:\\users\\mohammadshariqkhan\\anaconda3\\lib\\site-packages (from pandas) (1.24.3)\n",
      "Requirement already satisfied: et_xmlfile in c:\\users\\mohammadshariqkhan\\anaconda3\\lib\\site-packages (from openpyxl) (1.1.0)\n",
      "Requirement already satisfied: six>=1.5 in c:\\users\\mohammadshariqkhan\\anaconda3\\lib\\site-packages (from python-dateutil>=2.8.2->pandas) (1.16.0)\n",
      "Downloading pyxlsb-1.0.10-py2.py3-none-any.whl (23 kB)\n",
      "Installing collected packages: pyxlsb\n",
      "Successfully installed pyxlsb-1.0.10\n",
      "Note: you may need to restart the kernel to use updated packages.\n"
     ]
    }
   ],
   "source": [
    "pip install pandas pyxlsb openpyxl"
   ]
  },
  {
   "cell_type": "code",
   "execution_count": 25,
   "id": "dd8e315c-c86e-4cec-ba3d-a30396c21097",
   "metadata": {},
   "outputs": [
    {
     "name": "stdout",
     "output_type": "stream",
     "text": [
      "Updated PO has been saved to C:\\Users\\MohammadShariqKhan\\OneDrive - TRESORI TRADING L.L.C\\Desktop\\Updated_PO.xlsx\n",
      "Updated PO Repository has been saved to C:\\Users\\MohammadShariqKhan\\OneDrive - TRESORI TRADING L.L.C\\Desktop\\Updated_PO_Repository.xlsx\n"
     ]
    }
   ],
   "source": [
    "import pandas as pd\n",
    "\n",
    "# Path to the file\n",
    "file_path = r\"C:\\Users\\MohammadShariqKhan\\OneDrive - TRESORI TRADING L.L.C\\Desktop\\Test Parent Code.xlsb\"\n",
    "output_file_path = r\"C:\\Users\\MohammadShariqKhan\\OneDrive - TRESORI TRADING L.L.C\\Desktop\\Updated_PO.xlsx\"\n",
    "repo_output_file_path = r\"C:\\Users\\MohammadShariqKhan\\OneDrive - TRESORI TRADING L.L.C\\Desktop\\Updated_PO_Repository.xlsx\"\n",
    "\n",
    "# Read both sheets using pandas with pyxlsb engine\n",
    "po_df = pd.read_excel(file_path, sheet_name=\"PO\", engine='pyxlsb')\n",
    "repo_df = pd.read_excel(file_path, sheet_name=\"PO Repository\", engine='pyxlsb')\n",
    "\n",
    "# Ensure the columns are correct and max parent code is fetched\n",
    "max_parent_code = repo_df[\"T. parent Code\"].max()\n",
    "\n",
    "# Step 1: Create a dictionary for the PO Repository based on Parent Code\n",
    "# Each parent code will be associated with a list of (Item Code, Quantity) tuples\n",
    "repo_combinations = {}\n",
    "for parent_code, group in repo_df.groupby(\"T. parent Code\"):\n",
    "    item_combination = tuple(sorted(zip(group['T. Item Code'], group['QUANTITY'])))\n",
    "    repo_combinations[item_combination] = parent_code\n",
    "\n",
    "# List to store new repository entries\n",
    "new_repo_entries = []\n",
    "\n",
    "# Step 2: Function to find existing parent code or generate a new one\n",
    "def find_or_generate_parent_code(group):\n",
    "    # Create a combination of (Item Code, Quantity) for the PO group\n",
    "    po_combination = tuple(sorted(zip(group['T. Item Code'], group['QUANTITY'])))\n",
    "    \n",
    "    # Step 3: Check if this combination exists in the PO Repository\n",
    "    if po_combination in repo_combinations:\n",
    "        # Return the existing parent code\n",
    "        return repo_combinations[po_combination]\n",
    "    else:\n",
    "        # Generate a new parent code by incrementing the max parent code\n",
    "        global max_parent_code\n",
    "        max_parent_code += 1\n",
    "        # Save this new combination in the repo_combinations for future reference\n",
    "        repo_combinations[po_combination] = max_parent_code\n",
    "\n",
    "        # Step 3.1: Prepare new rows for PO repository for this new parent code\n",
    "        new_rows = pd.DataFrame({\n",
    "            'Supplier Code': group['Supplier Code'],\n",
    "            'Parent Code Identifier': group['Parent Code Identifier'],\n",
    "            'QUANTITY': group['QUANTITY'],\n",
    "            'T. Item Code': group['T. Item Code'],\n",
    "            'T. parent Code': [max_parent_code] * len(group)\n",
    "        })\n",
    "\n",
    "        # Add these new rows to the list to append to the repository later\n",
    "        new_repo_entries.append(new_rows)\n",
    "\n",
    "        return max_parent_code\n",
    "\n",
    "# Step 4: Apply the logic to the PO Sheet by grouping by 'Parent Code Identifier'\n",
    "po_df = po_df.groupby(\"Parent Code Identifier\").apply(assign_parent_code_to_group)\n",
    "\n",
    "# Step 5: If there are any new repository entries, append them to the repository\n",
    "if new_repo_entries:\n",
    "    new_repo_df = pd.concat(new_repo_entries)\n",
    "    repo_df = pd.concat([repo_df, new_repo_df], ignore_index=True)\n",
    "\n",
    "# Save the updated PO to a new Excel file\n",
    "po_df.to_excel(output_file_path, sheet_name=\"Updated PO\", index=False)\n",
    "\n",
    "# Save the updated PO Repository with new parent codes\n",
    "repo_df.to_excel(repo_output_file_path, sheet_name=\"Updated PO Repository\", index=False)\n",
    "\n",
    "print(f\"Updated PO has been saved to {output_file_path}\")\n",
    "print(f\"Updated PO Repository has been saved to {repo_output_file_path}\")\n"
   ]
  },
  {
   "cell_type": "code",
   "execution_count": null,
   "id": "a75edcd8-957d-47f9-902a-d93276ce80c5",
   "metadata": {},
   "outputs": [],
   "source": []
  }
 ],
 "metadata": {
  "kernelspec": {
   "display_name": "Python 3 (ipykernel)",
   "language": "python",
   "name": "python3"
  },
  "language_info": {
   "codemirror_mode": {
    "name": "ipython",
    "version": 3
   },
   "file_extension": ".py",
   "mimetype": "text/x-python",
   "name": "python",
   "nbconvert_exporter": "python",
   "pygments_lexer": "ipython3",
   "version": "3.11.5"
  }
 },
 "nbformat": 4,
 "nbformat_minor": 5
}
